{
 "cells": [
  {
   "cell_type": "code",
   "execution_count": 1,
   "id": "be34f25e",
   "metadata": {
    "execution": {
     "iopub.execute_input": "2025-01-15T05:17:04.561317Z",
     "iopub.status.busy": "2025-01-15T05:17:04.560927Z",
     "iopub.status.idle": "2025-01-15T05:17:12.089960Z",
     "shell.execute_reply": "2025-01-15T05:17:12.088548Z"
    },
    "papermill": {
     "duration": 7.5379,
     "end_time": "2025-01-15T05:17:12.091831",
     "exception": false,
     "start_time": "2025-01-15T05:17:04.553931",
     "status": "completed"
    },
    "tags": []
   },
   "outputs": [
    {
     "name": "stdout",
     "output_type": "stream",
     "text": [
      "Collecting rapidfuzz\r\n",
      "  Downloading rapidfuzz-3.11.0-cp310-cp310-manylinux_2_17_x86_64.manylinux2014_x86_64.whl.metadata (11 kB)\r\n",
      "Downloading rapidfuzz-3.11.0-cp310-cp310-manylinux_2_17_x86_64.manylinux2014_x86_64.whl (3.1 MB)\r\n",
      "\u001b[2K   \u001b[90m━━━━━━━━━━━━━━━━━━━━━━━━━━━━━━━━━━━━━━━━\u001b[0m \u001b[32m3.1/3.1 MB\u001b[0m \u001b[31m37.6 MB/s\u001b[0m eta \u001b[36m0:00:00\u001b[0m\r\n",
      "\u001b[?25hInstalling collected packages: rapidfuzz\r\n",
      "Successfully installed rapidfuzz-3.11.0\r\n",
      "Note: you may need to restart the kernel to use updated packages.\n"
     ]
    }
   ],
   "source": [
    "pip install rapidfuzz"
   ]
  },
  {
   "cell_type": "code",
   "execution_count": 2,
   "id": "23958a79",
   "metadata": {
    "execution": {
     "iopub.execute_input": "2025-01-15T05:17:12.103055Z",
     "iopub.status.busy": "2025-01-15T05:17:12.102673Z",
     "iopub.status.idle": "2025-01-15T05:17:14.384688Z",
     "shell.execute_reply": "2025-01-15T05:17:14.383736Z"
    },
    "papermill": {
     "duration": 2.289802,
     "end_time": "2025-01-15T05:17:14.386693",
     "exception": false,
     "start_time": "2025-01-15T05:17:12.096891",
     "status": "completed"
    },
    "tags": []
   },
   "outputs": [],
   "source": [
    "import pandas as pd\n",
    "from sklearn.feature_extraction.text import TfidfVectorizer\n",
    "from sklearn.metrics.pairwise import cosine_similarity\n",
    "from sklearn.model_selection import ParameterGrid\n",
    "from rapidfuzz import fuzz, process\n"
   ]
  },
  {
   "cell_type": "code",
   "execution_count": 3,
   "id": "a408a2a9",
   "metadata": {
    "execution": {
     "iopub.execute_input": "2025-01-15T05:17:14.397866Z",
     "iopub.status.busy": "2025-01-15T05:17:14.397362Z",
     "iopub.status.idle": "2025-01-15T05:17:14.535336Z",
     "shell.execute_reply": "2025-01-15T05:17:14.534336Z"
    },
    "papermill": {
     "duration": 0.145561,
     "end_time": "2025-01-15T05:17:14.537229",
     "exception": false,
     "start_time": "2025-01-15T05:17:14.391668",
     "status": "completed"
    },
    "tags": []
   },
   "outputs": [],
   "source": [
    "df = pd.read_csv('/kaggle/input/netflix-movies-and-shows-dataset/netflix_data.csv')"
   ]
  },
  {
   "cell_type": "code",
   "execution_count": 4,
   "id": "cecb133e",
   "metadata": {
    "execution": {
     "iopub.execute_input": "2025-01-15T05:17:14.548214Z",
     "iopub.status.busy": "2025-01-15T05:17:14.547811Z",
     "iopub.status.idle": "2025-01-15T05:17:14.573399Z",
     "shell.execute_reply": "2025-01-15T05:17:14.572352Z"
    },
    "papermill": {
     "duration": 0.032548,
     "end_time": "2025-01-15T05:17:14.574906",
     "exception": false,
     "start_time": "2025-01-15T05:17:14.542358",
     "status": "completed"
    },
    "tags": []
   },
   "outputs": [
    {
     "data": {
      "text/html": [
       "<div>\n",
       "<style scoped>\n",
       "    .dataframe tbody tr th:only-of-type {\n",
       "        vertical-align: middle;\n",
       "    }\n",
       "\n",
       "    .dataframe tbody tr th {\n",
       "        vertical-align: top;\n",
       "    }\n",
       "\n",
       "    .dataframe thead th {\n",
       "        text-align: right;\n",
       "    }\n",
       "</style>\n",
       "<table border=\"1\" class=\"dataframe\">\n",
       "  <thead>\n",
       "    <tr style=\"text-align: right;\">\n",
       "      <th></th>\n",
       "      <th>show_id</th>\n",
       "      <th>type</th>\n",
       "      <th>title</th>\n",
       "      <th>director</th>\n",
       "      <th>cast</th>\n",
       "      <th>country</th>\n",
       "      <th>date_added</th>\n",
       "      <th>release_year</th>\n",
       "      <th>rating</th>\n",
       "      <th>duration</th>\n",
       "      <th>listed_in</th>\n",
       "      <th>description</th>\n",
       "    </tr>\n",
       "  </thead>\n",
       "  <tbody>\n",
       "    <tr>\n",
       "      <th>0</th>\n",
       "      <td>s1</td>\n",
       "      <td>Movie</td>\n",
       "      <td>Dick Johnson Is Dead</td>\n",
       "      <td>Kirsten Johnson</td>\n",
       "      <td>NaN</td>\n",
       "      <td>United States</td>\n",
       "      <td>September 25, 2021</td>\n",
       "      <td>2020</td>\n",
       "      <td>PG-13</td>\n",
       "      <td>90 min</td>\n",
       "      <td>Documentaries</td>\n",
       "      <td>As her father nears the end of his life, filmm...</td>\n",
       "    </tr>\n",
       "    <tr>\n",
       "      <th>1</th>\n",
       "      <td>s2</td>\n",
       "      <td>TV Show</td>\n",
       "      <td>Blood &amp; Water</td>\n",
       "      <td>NaN</td>\n",
       "      <td>Ama Qamata, Khosi Ngema, Gail Mabalane, Thaban...</td>\n",
       "      <td>South Africa</td>\n",
       "      <td>September 24, 2021</td>\n",
       "      <td>2021</td>\n",
       "      <td>TV-MA</td>\n",
       "      <td>2 Seasons</td>\n",
       "      <td>International TV Shows, TV Dramas, TV Mysteries</td>\n",
       "      <td>After crossing paths at a party, a Cape Town t...</td>\n",
       "    </tr>\n",
       "    <tr>\n",
       "      <th>2</th>\n",
       "      <td>s3</td>\n",
       "      <td>TV Show</td>\n",
       "      <td>Ganglands</td>\n",
       "      <td>Julien Leclercq</td>\n",
       "      <td>Sami Bouajila, Tracy Gotoas, Samuel Jouy, Nabi...</td>\n",
       "      <td>NaN</td>\n",
       "      <td>September 24, 2021</td>\n",
       "      <td>2021</td>\n",
       "      <td>TV-MA</td>\n",
       "      <td>1 Season</td>\n",
       "      <td>Crime TV Shows, International TV Shows, TV Act...</td>\n",
       "      <td>To protect his family from a powerful drug lor...</td>\n",
       "    </tr>\n",
       "    <tr>\n",
       "      <th>3</th>\n",
       "      <td>s4</td>\n",
       "      <td>TV Show</td>\n",
       "      <td>Jailbirds New Orleans</td>\n",
       "      <td>NaN</td>\n",
       "      <td>NaN</td>\n",
       "      <td>NaN</td>\n",
       "      <td>September 24, 2021</td>\n",
       "      <td>2021</td>\n",
       "      <td>TV-MA</td>\n",
       "      <td>1 Season</td>\n",
       "      <td>Docuseries, Reality TV</td>\n",
       "      <td>Feuds, flirtations and toilet talk go down amo...</td>\n",
       "    </tr>\n",
       "    <tr>\n",
       "      <th>4</th>\n",
       "      <td>s5</td>\n",
       "      <td>TV Show</td>\n",
       "      <td>Kota Factory</td>\n",
       "      <td>NaN</td>\n",
       "      <td>Mayur More, Jitendra Kumar, Ranjan Raj, Alam K...</td>\n",
       "      <td>India</td>\n",
       "      <td>September 24, 2021</td>\n",
       "      <td>2021</td>\n",
       "      <td>TV-MA</td>\n",
       "      <td>2 Seasons</td>\n",
       "      <td>International TV Shows, Romantic TV Shows, TV ...</td>\n",
       "      <td>In a city of coaching centers known to train I...</td>\n",
       "    </tr>\n",
       "  </tbody>\n",
       "</table>\n",
       "</div>"
      ],
      "text/plain": [
       "  show_id     type                  title         director  \\\n",
       "0      s1    Movie   Dick Johnson Is Dead  Kirsten Johnson   \n",
       "1      s2  TV Show          Blood & Water              NaN   \n",
       "2      s3  TV Show              Ganglands  Julien Leclercq   \n",
       "3      s4  TV Show  Jailbirds New Orleans              NaN   \n",
       "4      s5  TV Show           Kota Factory              NaN   \n",
       "\n",
       "                                                cast        country  \\\n",
       "0                                                NaN  United States   \n",
       "1  Ama Qamata, Khosi Ngema, Gail Mabalane, Thaban...   South Africa   \n",
       "2  Sami Bouajila, Tracy Gotoas, Samuel Jouy, Nabi...            NaN   \n",
       "3                                                NaN            NaN   \n",
       "4  Mayur More, Jitendra Kumar, Ranjan Raj, Alam K...          India   \n",
       "\n",
       "           date_added  release_year rating   duration  \\\n",
       "0  September 25, 2021          2020  PG-13     90 min   \n",
       "1  September 24, 2021          2021  TV-MA  2 Seasons   \n",
       "2  September 24, 2021          2021  TV-MA   1 Season   \n",
       "3  September 24, 2021          2021  TV-MA   1 Season   \n",
       "4  September 24, 2021          2021  TV-MA  2 Seasons   \n",
       "\n",
       "                                           listed_in  \\\n",
       "0                                      Documentaries   \n",
       "1    International TV Shows, TV Dramas, TV Mysteries   \n",
       "2  Crime TV Shows, International TV Shows, TV Act...   \n",
       "3                             Docuseries, Reality TV   \n",
       "4  International TV Shows, Romantic TV Shows, TV ...   \n",
       "\n",
       "                                         description  \n",
       "0  As her father nears the end of his life, filmm...  \n",
       "1  After crossing paths at a party, a Cape Town t...  \n",
       "2  To protect his family from a powerful drug lor...  \n",
       "3  Feuds, flirtations and toilet talk go down amo...  \n",
       "4  In a city of coaching centers known to train I...  "
      ]
     },
     "execution_count": 4,
     "metadata": {},
     "output_type": "execute_result"
    }
   ],
   "source": [
    "df.head()"
   ]
  },
  {
   "cell_type": "code",
   "execution_count": 5,
   "id": "addc4065",
   "metadata": {
    "execution": {
     "iopub.execute_input": "2025-01-15T05:17:14.586394Z",
     "iopub.status.busy": "2025-01-15T05:17:14.585997Z",
     "iopub.status.idle": "2025-01-15T05:17:14.599410Z",
     "shell.execute_reply": "2025-01-15T05:17:14.598466Z"
    },
    "papermill": {
     "duration": 0.020689,
     "end_time": "2025-01-15T05:17:14.600921",
     "exception": false,
     "start_time": "2025-01-15T05:17:14.580232",
     "status": "completed"
    },
    "tags": []
   },
   "outputs": [
    {
     "data": {
      "text/html": [
       "<div>\n",
       "<style scoped>\n",
       "    .dataframe tbody tr th:only-of-type {\n",
       "        vertical-align: middle;\n",
       "    }\n",
       "\n",
       "    .dataframe tbody tr th {\n",
       "        vertical-align: top;\n",
       "    }\n",
       "\n",
       "    .dataframe thead th {\n",
       "        text-align: right;\n",
       "    }\n",
       "</style>\n",
       "<table border=\"1\" class=\"dataframe\">\n",
       "  <thead>\n",
       "    <tr style=\"text-align: right;\">\n",
       "      <th></th>\n",
       "      <th>show_id</th>\n",
       "      <th>type</th>\n",
       "      <th>title</th>\n",
       "      <th>director</th>\n",
       "      <th>cast</th>\n",
       "      <th>country</th>\n",
       "      <th>date_added</th>\n",
       "      <th>release_year</th>\n",
       "      <th>rating</th>\n",
       "      <th>duration</th>\n",
       "      <th>listed_in</th>\n",
       "      <th>description</th>\n",
       "    </tr>\n",
       "  </thead>\n",
       "  <tbody>\n",
       "    <tr>\n",
       "      <th>8802</th>\n",
       "      <td>s8803</td>\n",
       "      <td>Movie</td>\n",
       "      <td>Zodiac</td>\n",
       "      <td>David Fincher</td>\n",
       "      <td>Mark Ruffalo, Jake Gyllenhaal, Robert Downey J...</td>\n",
       "      <td>United States</td>\n",
       "      <td>November 20, 2019</td>\n",
       "      <td>2007</td>\n",
       "      <td>R</td>\n",
       "      <td>158 min</td>\n",
       "      <td>Cult Movies, Dramas, Thrillers</td>\n",
       "      <td>A political cartoonist, a crime reporter and a...</td>\n",
       "    </tr>\n",
       "    <tr>\n",
       "      <th>8803</th>\n",
       "      <td>s8804</td>\n",
       "      <td>TV Show</td>\n",
       "      <td>Zombie Dumb</td>\n",
       "      <td>NaN</td>\n",
       "      <td>NaN</td>\n",
       "      <td>NaN</td>\n",
       "      <td>July 1, 2019</td>\n",
       "      <td>2018</td>\n",
       "      <td>TV-Y7</td>\n",
       "      <td>2 Seasons</td>\n",
       "      <td>Kids' TV, Korean TV Shows, TV Comedies</td>\n",
       "      <td>While living alone in a spooky town, a young g...</td>\n",
       "    </tr>\n",
       "    <tr>\n",
       "      <th>8804</th>\n",
       "      <td>s8805</td>\n",
       "      <td>Movie</td>\n",
       "      <td>Zombieland</td>\n",
       "      <td>Ruben Fleischer</td>\n",
       "      <td>Jesse Eisenberg, Woody Harrelson, Emma Stone, ...</td>\n",
       "      <td>United States</td>\n",
       "      <td>November 1, 2019</td>\n",
       "      <td>2009</td>\n",
       "      <td>R</td>\n",
       "      <td>88 min</td>\n",
       "      <td>Comedies, Horror Movies</td>\n",
       "      <td>Looking to survive in a world taken over by zo...</td>\n",
       "    </tr>\n",
       "    <tr>\n",
       "      <th>8805</th>\n",
       "      <td>s8806</td>\n",
       "      <td>Movie</td>\n",
       "      <td>Zoom</td>\n",
       "      <td>Peter Hewitt</td>\n",
       "      <td>Tim Allen, Courteney Cox, Chevy Chase, Kate Ma...</td>\n",
       "      <td>United States</td>\n",
       "      <td>January 11, 2020</td>\n",
       "      <td>2006</td>\n",
       "      <td>PG</td>\n",
       "      <td>88 min</td>\n",
       "      <td>Children &amp; Family Movies, Comedies</td>\n",
       "      <td>Dragged from civilian life, a former superhero...</td>\n",
       "    </tr>\n",
       "    <tr>\n",
       "      <th>8806</th>\n",
       "      <td>s8807</td>\n",
       "      <td>Movie</td>\n",
       "      <td>Zubaan</td>\n",
       "      <td>Mozez Singh</td>\n",
       "      <td>Vicky Kaushal, Sarah-Jane Dias, Raaghav Chanan...</td>\n",
       "      <td>India</td>\n",
       "      <td>March 2, 2019</td>\n",
       "      <td>2015</td>\n",
       "      <td>TV-14</td>\n",
       "      <td>111 min</td>\n",
       "      <td>Dramas, International Movies, Music &amp; Musicals</td>\n",
       "      <td>A scrappy but poor boy worms his way into a ty...</td>\n",
       "    </tr>\n",
       "  </tbody>\n",
       "</table>\n",
       "</div>"
      ],
      "text/plain": [
       "     show_id     type        title         director  \\\n",
       "8802   s8803    Movie       Zodiac    David Fincher   \n",
       "8803   s8804  TV Show  Zombie Dumb              NaN   \n",
       "8804   s8805    Movie   Zombieland  Ruben Fleischer   \n",
       "8805   s8806    Movie         Zoom     Peter Hewitt   \n",
       "8806   s8807    Movie       Zubaan      Mozez Singh   \n",
       "\n",
       "                                                   cast        country  \\\n",
       "8802  Mark Ruffalo, Jake Gyllenhaal, Robert Downey J...  United States   \n",
       "8803                                                NaN            NaN   \n",
       "8804  Jesse Eisenberg, Woody Harrelson, Emma Stone, ...  United States   \n",
       "8805  Tim Allen, Courteney Cox, Chevy Chase, Kate Ma...  United States   \n",
       "8806  Vicky Kaushal, Sarah-Jane Dias, Raaghav Chanan...          India   \n",
       "\n",
       "             date_added  release_year rating   duration  \\\n",
       "8802  November 20, 2019          2007      R    158 min   \n",
       "8803       July 1, 2019          2018  TV-Y7  2 Seasons   \n",
       "8804   November 1, 2019          2009      R     88 min   \n",
       "8805   January 11, 2020          2006     PG     88 min   \n",
       "8806      March 2, 2019          2015  TV-14    111 min   \n",
       "\n",
       "                                           listed_in  \\\n",
       "8802                  Cult Movies, Dramas, Thrillers   \n",
       "8803          Kids' TV, Korean TV Shows, TV Comedies   \n",
       "8804                         Comedies, Horror Movies   \n",
       "8805              Children & Family Movies, Comedies   \n",
       "8806  Dramas, International Movies, Music & Musicals   \n",
       "\n",
       "                                            description  \n",
       "8802  A political cartoonist, a crime reporter and a...  \n",
       "8803  While living alone in a spooky town, a young g...  \n",
       "8804  Looking to survive in a world taken over by zo...  \n",
       "8805  Dragged from civilian life, a former superhero...  \n",
       "8806  A scrappy but poor boy worms his way into a ty...  "
      ]
     },
     "execution_count": 5,
     "metadata": {},
     "output_type": "execute_result"
    }
   ],
   "source": [
    "df.tail()"
   ]
  },
  {
   "cell_type": "code",
   "execution_count": 6,
   "id": "40553fd8",
   "metadata": {
    "execution": {
     "iopub.execute_input": "2025-01-15T05:17:14.612611Z",
     "iopub.status.busy": "2025-01-15T05:17:14.612287Z",
     "iopub.status.idle": "2025-01-15T05:17:14.639341Z",
     "shell.execute_reply": "2025-01-15T05:17:14.638113Z"
    },
    "papermill": {
     "duration": 0.03463,
     "end_time": "2025-01-15T05:17:14.640896",
     "exception": false,
     "start_time": "2025-01-15T05:17:14.606266",
     "status": "completed"
    },
    "tags": []
   },
   "outputs": [
    {
     "name": "stdout",
     "output_type": "stream",
     "text": [
      "<class 'pandas.core.frame.DataFrame'>\n",
      "RangeIndex: 8807 entries, 0 to 8806\n",
      "Data columns (total 12 columns):\n",
      " #   Column        Non-Null Count  Dtype \n",
      "---  ------        --------------  ----- \n",
      " 0   show_id       8807 non-null   object\n",
      " 1   type          8807 non-null   object\n",
      " 2   title         8807 non-null   object\n",
      " 3   director      6173 non-null   object\n",
      " 4   cast          7982 non-null   object\n",
      " 5   country       7976 non-null   object\n",
      " 6   date_added    8797 non-null   object\n",
      " 7   release_year  8807 non-null   int64 \n",
      " 8   rating        8803 non-null   object\n",
      " 9   duration      8804 non-null   object\n",
      " 10  listed_in     8807 non-null   object\n",
      " 11  description   8807 non-null   object\n",
      "dtypes: int64(1), object(11)\n",
      "memory usage: 825.8+ KB\n"
     ]
    }
   ],
   "source": [
    "df.info()"
   ]
  },
  {
   "cell_type": "code",
   "execution_count": 7,
   "id": "6d9fc426",
   "metadata": {
    "execution": {
     "iopub.execute_input": "2025-01-15T05:17:14.652739Z",
     "iopub.status.busy": "2025-01-15T05:17:14.652403Z",
     "iopub.status.idle": "2025-01-15T05:17:14.665328Z",
     "shell.execute_reply": "2025-01-15T05:17:14.664350Z"
    },
    "papermill": {
     "duration": 0.020603,
     "end_time": "2025-01-15T05:17:14.666930",
     "exception": false,
     "start_time": "2025-01-15T05:17:14.646327",
     "status": "completed"
    },
    "tags": []
   },
   "outputs": [
    {
     "data": {
      "text/plain": [
       "show_id            0\n",
       "type               0\n",
       "title              0\n",
       "director        2634\n",
       "cast             825\n",
       "country          831\n",
       "date_added        10\n",
       "release_year       0\n",
       "rating             4\n",
       "duration           3\n",
       "listed_in          0\n",
       "description        0\n",
       "dtype: int64"
      ]
     },
     "execution_count": 7,
     "metadata": {},
     "output_type": "execute_result"
    }
   ],
   "source": [
    "df.isnull().sum()"
   ]
  },
  {
   "cell_type": "code",
   "execution_count": 8,
   "id": "3e7186c9",
   "metadata": {
    "execution": {
     "iopub.execute_input": "2025-01-15T05:17:14.679085Z",
     "iopub.status.busy": "2025-01-15T05:17:14.678676Z",
     "iopub.status.idle": "2025-01-15T05:17:14.700816Z",
     "shell.execute_reply": "2025-01-15T05:17:14.699796Z"
    },
    "papermill": {
     "duration": 0.030031,
     "end_time": "2025-01-15T05:17:14.702503",
     "exception": false,
     "start_time": "2025-01-15T05:17:14.672472",
     "status": "completed"
    },
    "tags": []
   },
   "outputs": [
    {
     "data": {
      "text/plain": [
       "0"
      ]
     },
     "execution_count": 8,
     "metadata": {},
     "output_type": "execute_result"
    }
   ],
   "source": [
    "df.duplicated().sum()"
   ]
  },
  {
   "cell_type": "code",
   "execution_count": 9,
   "id": "916c1c23",
   "metadata": {
    "execution": {
     "iopub.execute_input": "2025-01-15T05:17:14.714576Z",
     "iopub.status.busy": "2025-01-15T05:17:14.714218Z",
     "iopub.status.idle": "2025-01-15T05:17:14.725114Z",
     "shell.execute_reply": "2025-01-15T05:17:14.723966Z"
    },
    "papermill": {
     "duration": 0.018669,
     "end_time": "2025-01-15T05:17:14.726727",
     "exception": false,
     "start_time": "2025-01-15T05:17:14.708058",
     "status": "completed"
    },
    "tags": []
   },
   "outputs": [
    {
     "name": "stderr",
     "output_type": "stream",
     "text": [
      "<ipython-input-9-f48a2b1e3158>:1: FutureWarning: A value is trying to be set on a copy of a DataFrame or Series through chained assignment using an inplace method.\n",
      "The behavior will change in pandas 3.0. This inplace method will never work because the intermediate object on which we are setting values always behaves as a copy.\n",
      "\n",
      "For example, when doing 'df[col].method(value, inplace=True)', try using 'df.method({col: value}, inplace=True)' or df[col] = df[col].method(value) instead, to perform the operation inplace on the original object.\n",
      "\n",
      "\n",
      "  df['description'].fillna('', inplace=True)\n",
      "<ipython-input-9-f48a2b1e3158>:2: FutureWarning: A value is trying to be set on a copy of a DataFrame or Series through chained assignment using an inplace method.\n",
      "The behavior will change in pandas 3.0. This inplace method will never work because the intermediate object on which we are setting values always behaves as a copy.\n",
      "\n",
      "For example, when doing 'df[col].method(value, inplace=True)', try using 'df.method({col: value}, inplace=True)' or df[col] = df[col].method(value) instead, to perform the operation inplace on the original object.\n",
      "\n",
      "\n",
      "  df['listed_in'].fillna('', inplace=True)\n",
      "<ipython-input-9-f48a2b1e3158>:3: FutureWarning: A value is trying to be set on a copy of a DataFrame or Series through chained assignment using an inplace method.\n",
      "The behavior will change in pandas 3.0. This inplace method will never work because the intermediate object on which we are setting values always behaves as a copy.\n",
      "\n",
      "For example, when doing 'df[col].method(value, inplace=True)', try using 'df.method({col: value}, inplace=True)' or df[col] = df[col].method(value) instead, to perform the operation inplace on the original object.\n",
      "\n",
      "\n",
      "  df['cast'].fillna('Unknown', inplace=True)\n",
      "<ipython-input-9-f48a2b1e3158>:4: FutureWarning: A value is trying to be set on a copy of a DataFrame or Series through chained assignment using an inplace method.\n",
      "The behavior will change in pandas 3.0. This inplace method will never work because the intermediate object on which we are setting values always behaves as a copy.\n",
      "\n",
      "For example, when doing 'df[col].method(value, inplace=True)', try using 'df.method({col: value}, inplace=True)' or df[col] = df[col].method(value) instead, to perform the operation inplace on the original object.\n",
      "\n",
      "\n",
      "  df['director'].fillna('Unknown', inplace=True)\n"
     ]
    }
   ],
   "source": [
    "df['description'].fillna('', inplace=True)\n",
    "df['listed_in'].fillna('', inplace=True)\n",
    "df['cast'].fillna('Unknown', inplace=True)\n",
    "df['director'].fillna('Unknown', inplace=True)"
   ]
  },
  {
   "cell_type": "code",
   "execution_count": 10,
   "id": "f166b81d",
   "metadata": {
    "execution": {
     "iopub.execute_input": "2025-01-15T05:17:14.739347Z",
     "iopub.status.busy": "2025-01-15T05:17:14.738961Z",
     "iopub.status.idle": "2025-01-15T05:17:14.757694Z",
     "shell.execute_reply": "2025-01-15T05:17:14.756751Z"
    },
    "papermill": {
     "duration": 0.026886,
     "end_time": "2025-01-15T05:17:14.759354",
     "exception": false,
     "start_time": "2025-01-15T05:17:14.732468",
     "status": "completed"
    },
    "tags": []
   },
   "outputs": [],
   "source": [
    "df['content'] = (\n",
    "    df['description'] + \" \" + df['listed_in'] + \" \" + df['cast'] + \" \" + df['director']\n",
    ")"
   ]
  },
  {
   "cell_type": "code",
   "execution_count": 11,
   "id": "9b611d23",
   "metadata": {
    "execution": {
     "iopub.execute_input": "2025-01-15T05:17:14.771977Z",
     "iopub.status.busy": "2025-01-15T05:17:14.771638Z",
     "iopub.status.idle": "2025-01-15T05:17:14.786071Z",
     "shell.execute_reply": "2025-01-15T05:17:14.784948Z"
    },
    "papermill": {
     "duration": 0.022656,
     "end_time": "2025-01-15T05:17:14.787741",
     "exception": false,
     "start_time": "2025-01-15T05:17:14.765085",
     "status": "completed"
    },
    "tags": []
   },
   "outputs": [
    {
     "data": {
      "text/html": [
       "<div>\n",
       "<style scoped>\n",
       "    .dataframe tbody tr th:only-of-type {\n",
       "        vertical-align: middle;\n",
       "    }\n",
       "\n",
       "    .dataframe tbody tr th {\n",
       "        vertical-align: top;\n",
       "    }\n",
       "\n",
       "    .dataframe thead th {\n",
       "        text-align: right;\n",
       "    }\n",
       "</style>\n",
       "<table border=\"1\" class=\"dataframe\">\n",
       "  <thead>\n",
       "    <tr style=\"text-align: right;\">\n",
       "      <th></th>\n",
       "      <th>show_id</th>\n",
       "      <th>type</th>\n",
       "      <th>title</th>\n",
       "      <th>director</th>\n",
       "      <th>cast</th>\n",
       "      <th>country</th>\n",
       "      <th>date_added</th>\n",
       "      <th>release_year</th>\n",
       "      <th>rating</th>\n",
       "      <th>duration</th>\n",
       "      <th>listed_in</th>\n",
       "      <th>description</th>\n",
       "      <th>content</th>\n",
       "    </tr>\n",
       "  </thead>\n",
       "  <tbody>\n",
       "    <tr>\n",
       "      <th>0</th>\n",
       "      <td>s1</td>\n",
       "      <td>Movie</td>\n",
       "      <td>Dick Johnson Is Dead</td>\n",
       "      <td>Kirsten Johnson</td>\n",
       "      <td>Unknown</td>\n",
       "      <td>United States</td>\n",
       "      <td>September 25, 2021</td>\n",
       "      <td>2020</td>\n",
       "      <td>PG-13</td>\n",
       "      <td>90 min</td>\n",
       "      <td>Documentaries</td>\n",
       "      <td>As her father nears the end of his life, filmm...</td>\n",
       "      <td>As her father nears the end of his life, filmm...</td>\n",
       "    </tr>\n",
       "    <tr>\n",
       "      <th>1</th>\n",
       "      <td>s2</td>\n",
       "      <td>TV Show</td>\n",
       "      <td>Blood &amp; Water</td>\n",
       "      <td>Unknown</td>\n",
       "      <td>Ama Qamata, Khosi Ngema, Gail Mabalane, Thaban...</td>\n",
       "      <td>South Africa</td>\n",
       "      <td>September 24, 2021</td>\n",
       "      <td>2021</td>\n",
       "      <td>TV-MA</td>\n",
       "      <td>2 Seasons</td>\n",
       "      <td>International TV Shows, TV Dramas, TV Mysteries</td>\n",
       "      <td>After crossing paths at a party, a Cape Town t...</td>\n",
       "      <td>After crossing paths at a party, a Cape Town t...</td>\n",
       "    </tr>\n",
       "    <tr>\n",
       "      <th>2</th>\n",
       "      <td>s3</td>\n",
       "      <td>TV Show</td>\n",
       "      <td>Ganglands</td>\n",
       "      <td>Julien Leclercq</td>\n",
       "      <td>Sami Bouajila, Tracy Gotoas, Samuel Jouy, Nabi...</td>\n",
       "      <td>NaN</td>\n",
       "      <td>September 24, 2021</td>\n",
       "      <td>2021</td>\n",
       "      <td>TV-MA</td>\n",
       "      <td>1 Season</td>\n",
       "      <td>Crime TV Shows, International TV Shows, TV Act...</td>\n",
       "      <td>To protect his family from a powerful drug lor...</td>\n",
       "      <td>To protect his family from a powerful drug lor...</td>\n",
       "    </tr>\n",
       "    <tr>\n",
       "      <th>3</th>\n",
       "      <td>s4</td>\n",
       "      <td>TV Show</td>\n",
       "      <td>Jailbirds New Orleans</td>\n",
       "      <td>Unknown</td>\n",
       "      <td>Unknown</td>\n",
       "      <td>NaN</td>\n",
       "      <td>September 24, 2021</td>\n",
       "      <td>2021</td>\n",
       "      <td>TV-MA</td>\n",
       "      <td>1 Season</td>\n",
       "      <td>Docuseries, Reality TV</td>\n",
       "      <td>Feuds, flirtations and toilet talk go down amo...</td>\n",
       "      <td>Feuds, flirtations and toilet talk go down amo...</td>\n",
       "    </tr>\n",
       "    <tr>\n",
       "      <th>4</th>\n",
       "      <td>s5</td>\n",
       "      <td>TV Show</td>\n",
       "      <td>Kota Factory</td>\n",
       "      <td>Unknown</td>\n",
       "      <td>Mayur More, Jitendra Kumar, Ranjan Raj, Alam K...</td>\n",
       "      <td>India</td>\n",
       "      <td>September 24, 2021</td>\n",
       "      <td>2021</td>\n",
       "      <td>TV-MA</td>\n",
       "      <td>2 Seasons</td>\n",
       "      <td>International TV Shows, Romantic TV Shows, TV ...</td>\n",
       "      <td>In a city of coaching centers known to train I...</td>\n",
       "      <td>In a city of coaching centers known to train I...</td>\n",
       "    </tr>\n",
       "  </tbody>\n",
       "</table>\n",
       "</div>"
      ],
      "text/plain": [
       "  show_id     type                  title         director  \\\n",
       "0      s1    Movie   Dick Johnson Is Dead  Kirsten Johnson   \n",
       "1      s2  TV Show          Blood & Water          Unknown   \n",
       "2      s3  TV Show              Ganglands  Julien Leclercq   \n",
       "3      s4  TV Show  Jailbirds New Orleans          Unknown   \n",
       "4      s5  TV Show           Kota Factory          Unknown   \n",
       "\n",
       "                                                cast        country  \\\n",
       "0                                            Unknown  United States   \n",
       "1  Ama Qamata, Khosi Ngema, Gail Mabalane, Thaban...   South Africa   \n",
       "2  Sami Bouajila, Tracy Gotoas, Samuel Jouy, Nabi...            NaN   \n",
       "3                                            Unknown            NaN   \n",
       "4  Mayur More, Jitendra Kumar, Ranjan Raj, Alam K...          India   \n",
       "\n",
       "           date_added  release_year rating   duration  \\\n",
       "0  September 25, 2021          2020  PG-13     90 min   \n",
       "1  September 24, 2021          2021  TV-MA  2 Seasons   \n",
       "2  September 24, 2021          2021  TV-MA   1 Season   \n",
       "3  September 24, 2021          2021  TV-MA   1 Season   \n",
       "4  September 24, 2021          2021  TV-MA  2 Seasons   \n",
       "\n",
       "                                           listed_in  \\\n",
       "0                                      Documentaries   \n",
       "1    International TV Shows, TV Dramas, TV Mysteries   \n",
       "2  Crime TV Shows, International TV Shows, TV Act...   \n",
       "3                             Docuseries, Reality TV   \n",
       "4  International TV Shows, Romantic TV Shows, TV ...   \n",
       "\n",
       "                                         description  \\\n",
       "0  As her father nears the end of his life, filmm...   \n",
       "1  After crossing paths at a party, a Cape Town t...   \n",
       "2  To protect his family from a powerful drug lor...   \n",
       "3  Feuds, flirtations and toilet talk go down amo...   \n",
       "4  In a city of coaching centers known to train I...   \n",
       "\n",
       "                                             content  \n",
       "0  As her father nears the end of his life, filmm...  \n",
       "1  After crossing paths at a party, a Cape Town t...  \n",
       "2  To protect his family from a powerful drug lor...  \n",
       "3  Feuds, flirtations and toilet talk go down amo...  \n",
       "4  In a city of coaching centers known to train I...  "
      ]
     },
     "execution_count": 11,
     "metadata": {},
     "output_type": "execute_result"
    }
   ],
   "source": [
    "df.head()"
   ]
  },
  {
   "cell_type": "code",
   "execution_count": 12,
   "id": "f2b826da",
   "metadata": {
    "execution": {
     "iopub.execute_input": "2025-01-15T05:17:14.800821Z",
     "iopub.status.busy": "2025-01-15T05:17:14.800477Z",
     "iopub.status.idle": "2025-01-15T05:17:14.809057Z",
     "shell.execute_reply": "2025-01-15T05:17:14.808284Z"
    },
    "papermill": {
     "duration": 0.016875,
     "end_time": "2025-01-15T05:17:14.810730",
     "exception": false,
     "start_time": "2025-01-15T05:17:14.793855",
     "status": "completed"
    },
    "tags": []
   },
   "outputs": [],
   "source": [
    "df['title'] = df['title'].str.strip().str.lower()"
   ]
  },
  {
   "cell_type": "code",
   "execution_count": 13,
   "id": "83c6eab9",
   "metadata": {
    "execution": {
     "iopub.execute_input": "2025-01-15T05:17:14.823957Z",
     "iopub.status.busy": "2025-01-15T05:17:14.823576Z",
     "iopub.status.idle": "2025-01-15T05:17:19.423662Z",
     "shell.execute_reply": "2025-01-15T05:17:19.422466Z"
    },
    "papermill": {
     "duration": 4.608863,
     "end_time": "2025-01-15T05:17:19.425676",
     "exception": false,
     "start_time": "2025-01-15T05:17:14.816813",
     "status": "completed"
    },
    "tags": []
   },
   "outputs": [],
   "source": [
    "tfidf = TfidfVectorizer(stop_words='english', max_features=5000, ngram_range=(1, 2))\n",
    "\n",
    "tfidf_matrix = tfidf.fit_transform(df['content'])\n",
    "\n",
    "cosine_sim = cosine_similarity(tfidf_matrix, tfidf_matrix)"
   ]
  },
  {
   "cell_type": "code",
   "execution_count": 14,
   "id": "eef241cb",
   "metadata": {
    "execution": {
     "iopub.execute_input": "2025-01-15T05:17:19.439791Z",
     "iopub.status.busy": "2025-01-15T05:17:19.439413Z",
     "iopub.status.idle": "2025-01-15T05:17:19.444090Z",
     "shell.execute_reply": "2025-01-15T05:17:19.443164Z"
    },
    "papermill": {
     "duration": 0.013853,
     "end_time": "2025-01-15T05:17:19.445703",
     "exception": false,
     "start_time": "2025-01-15T05:17:19.431850",
     "status": "completed"
    },
    "tags": []
   },
   "outputs": [],
   "source": [
    "def find_fuzzy_match(title, df, limit=3, threshold=70):\n",
    "    matches = process.extract(title, df['title'], limit=limit, scorer=fuzz.partial_ratio)\n",
    "    matches = [match for match in matches if match[1] >= threshold]\n",
    "    return matches"
   ]
  },
  {
   "cell_type": "code",
   "execution_count": 15,
   "id": "8aec07cc",
   "metadata": {
    "execution": {
     "iopub.execute_input": "2025-01-15T05:17:19.460648Z",
     "iopub.status.busy": "2025-01-15T05:17:19.460182Z",
     "iopub.status.idle": "2025-01-15T05:17:19.470465Z",
     "shell.execute_reply": "2025-01-15T05:17:19.469137Z"
    },
    "papermill": {
     "duration": 0.020395,
     "end_time": "2025-01-15T05:17:19.472287",
     "exception": false,
     "start_time": "2025-01-15T05:17:19.451892",
     "status": "completed"
    },
    "tags": []
   },
   "outputs": [],
   "source": [
    "def recommend_content_based(title, df, cosine_sim, top_n=10):\n",
    "    title = title.strip().lower()\n",
    "\n",
    "    if title in df['title'].values:\n",
    "        idx = df[df['title'] == title].index[0]\n",
    "    else:\n",
    "        matches = find_fuzzy_match(title, df, limit=1, threshold=70)\n",
    "        if not matches:\n",
    "            return f\"Judul '{title}' tidak ditemukan dalam dataset.\"\n",
    "        title_matched = matches[0][0]\n",
    "        idx = df[df['title'] == title_matched].index[0]\n",
    "\n",
    "    sim_scores = list(enumerate(cosine_sim[idx]))\n",
    "    sim_scores = sorted(sim_scores, key=lambda x: x[1], reverse=True)\n",
    "\n",
    "    sim_scores = sim_scores[1:top_n+1]\n",
    "    indices = [i[0] for i in sim_scores]\n",
    "\n",
    "    recommended_df = df.iloc[indices][['title', 'listed_in', 'description']]\n",
    "    return recommended_df"
   ]
  },
  {
   "cell_type": "code",
   "execution_count": 16,
   "id": "a63608b7",
   "metadata": {
    "execution": {
     "iopub.execute_input": "2025-01-15T05:17:19.485691Z",
     "iopub.status.busy": "2025-01-15T05:17:19.485355Z",
     "iopub.status.idle": "2025-01-15T05:17:19.490177Z",
     "shell.execute_reply": "2025-01-15T05:17:19.489115Z"
    },
    "papermill": {
     "duration": 0.013301,
     "end_time": "2025-01-15T05:17:19.491763",
     "exception": false,
     "start_time": "2025-01-15T05:17:19.478462",
     "status": "completed"
    },
    "tags": []
   },
   "outputs": [],
   "source": [
    "param_grid = {\n",
    "    'max_features': [1000, 3000, 5000],\n",
    "    'ngram_range': [(1, 1), (1, 2)],\n",
    "    'stop_words': ['english']\n",
    "}\n",
    "\n",
    "best_params = None\n",
    "best_score = 0\n",
    "grid = ParameterGrid(param_grid)"
   ]
  },
  {
   "cell_type": "code",
   "execution_count": 17,
   "id": "54d330a7",
   "metadata": {
    "execution": {
     "iopub.execute_input": "2025-01-15T05:17:19.505206Z",
     "iopub.status.busy": "2025-01-15T05:17:19.504790Z",
     "iopub.status.idle": "2025-01-15T05:17:41.903802Z",
     "shell.execute_reply": "2025-01-15T05:17:41.902445Z"
    },
    "papermill": {
     "duration": 22.407621,
     "end_time": "2025-01-15T05:17:41.905584",
     "exception": false,
     "start_time": "2025-01-15T05:17:19.497963",
     "status": "completed"
    },
    "tags": []
   },
   "outputs": [
    {
     "name": "stdout",
     "output_type": "stream",
     "text": [
      "Best Parameters: {'max_features': 1000, 'ngram_range': (1, 1), 'stop_words': 'english'}\n"
     ]
    }
   ],
   "source": [
    "for params in grid:\n",
    "    tfidf = TfidfVectorizer(**params)\n",
    "    tfidf_matrix = tfidf.fit_transform(df['content'])\n",
    "    cosine_sim = cosine_similarity(tfidf_matrix, tfidf_matrix)\n",
    "\n",
    "    title = df['title'].iloc[0]\n",
    "    recommendations = recommend_content_based(title, df, cosine_sim, top_n=5)\n",
    "\n",
    "    score = len(recommendations)\n",
    "    if score > best_score:\n",
    "        best_score = score\n",
    "        best_params = params\n",
    "\n",
    "print(\"Best Parameters:\", best_params)"
   ]
  },
  {
   "cell_type": "code",
   "execution_count": 18,
   "id": "086d35ce",
   "metadata": {
    "execution": {
     "iopub.execute_input": "2025-01-15T05:17:41.919114Z",
     "iopub.status.busy": "2025-01-15T05:17:41.918722Z",
     "iopub.status.idle": "2025-01-15T05:17:41.935895Z",
     "shell.execute_reply": "2025-01-15T05:17:41.934638Z"
    },
    "papermill": {
     "duration": 0.025728,
     "end_time": "2025-01-15T05:17:41.937577",
     "exception": false,
     "start_time": "2025-01-15T05:17:41.911849",
     "status": "completed"
    },
    "tags": []
   },
   "outputs": [
    {
     "name": "stdout",
     "output_type": "stream",
     "text": [
      "Rekomendasi berdasarkan film: dragon\n",
      "                             title  \\\n",
      "4595                  needhi singh   \n",
      "7390                man of tai chi   \n",
      "295               the paper tigers   \n",
      "3487               the grandmaster   \n",
      "7347              love on delivery   \n",
      "2890  unabomber - in his own words   \n",
      "3674  pili fantasy: war of dragons   \n",
      "2916  panipat - the great betrayal   \n",
      "5356                    love storm   \n",
      "1344             the last paradiso   \n",
      "\n",
      "                                              listed_in  \\\n",
      "4595   Action & Adventure, Dramas, International Movies   \n",
      "7390                         Action & Adventure, Dramas   \n",
      "295                        Action & Adventure, Comedies   \n",
      "3487   Action & Adventure, Dramas, International Movies   \n",
      "7347  Action & Adventure, Comedies, International Mo...   \n",
      "2890                         Crime TV Shows, Docuseries   \n",
      "3674  International TV Shows, TV Action & Adventure,...   \n",
      "2916      Dramas, International Movies, Romantic Movies   \n",
      "5356  International TV Shows, Romantic TV Shows, TV ...   \n",
      "1344      Dramas, International Movies, Romantic Movies   \n",
      "\n",
      "                                            description  \n",
      "4595  When her friend’s rapist evades punishment fro...  \n",
      "7390  In this kung fu tale set in Beijing, a young m...  \n",
      "295   After reuniting as middle-aged men, three kung...  \n",
      "3487  As the Japanese invasion looms, Chinese kung f...  \n",
      "7347  To prove himself to a love interest, a deliver...  \n",
      "2890  The CIA attempts to turn Ted Kaczynski, aka th...  \n",
      "3674  As turmoil looms in the Martial World, and the...  \n",
      "2916  In 18th-century India, a Maratha commander lea...  \n",
      "5356  Three grown siblings must rethink their idea o...  \n",
      "1344  In 1950s Italy, a passionate free spirit dream...  \n"
     ]
    }
   ],
   "source": [
    "title = \"dragon\"  \n",
    "recommendations = recommend_content_based(title, df, cosine_sim, top_n=10)\n",
    "print(\"Rekomendasi berdasarkan film:\", title)\n",
    "print(recommendations)"
   ]
  },
  {
   "cell_type": "code",
   "execution_count": null,
   "id": "dd50069a",
   "metadata": {
    "papermill": {
     "duration": 0.005849,
     "end_time": "2025-01-15T05:17:41.949928",
     "exception": false,
     "start_time": "2025-01-15T05:17:41.944079",
     "status": "completed"
    },
    "tags": []
   },
   "outputs": [],
   "source": []
  },
  {
   "cell_type": "code",
   "execution_count": null,
   "id": "4dd86886",
   "metadata": {
    "papermill": {
     "duration": 0.005742,
     "end_time": "2025-01-15T05:17:41.961806",
     "exception": false,
     "start_time": "2025-01-15T05:17:41.956064",
     "status": "completed"
    },
    "tags": []
   },
   "outputs": [],
   "source": []
  }
 ],
 "metadata": {
  "kaggle": {
   "accelerator": "none",
   "dataSources": [
    {
     "datasetId": 4154328,
     "sourceId": 7186041,
     "sourceType": "datasetVersion"
    }
   ],
   "dockerImageVersionId": 30839,
   "isGpuEnabled": false,
   "isInternetEnabled": true,
   "language": "python",
   "sourceType": "notebook"
  },
  "kernelspec": {
   "display_name": "Python 3",
   "language": "python",
   "name": "python3"
  },
  "language_info": {
   "codemirror_mode": {
    "name": "ipython",
    "version": 3
   },
   "file_extension": ".py",
   "mimetype": "text/x-python",
   "name": "python",
   "nbconvert_exporter": "python",
   "pygments_lexer": "ipython3",
   "version": "3.10.12"
  },
  "papermill": {
   "default_parameters": {},
   "duration": 40.960796,
   "end_time": "2025-01-15T05:17:42.792111",
   "environment_variables": {},
   "exception": null,
   "input_path": "__notebook__.ipynb",
   "output_path": "__notebook__.ipynb",
   "parameters": {},
   "start_time": "2025-01-15T05:17:01.831315",
   "version": "2.6.0"
  }
 },
 "nbformat": 4,
 "nbformat_minor": 5
}
